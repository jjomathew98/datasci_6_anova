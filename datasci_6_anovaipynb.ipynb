{
  "nbformat": 4,
  "nbformat_minor": 0,
  "metadata": {
    "colab": {
      "provenance": [],
      "authorship_tag": "ABX9TyNcwacBXbrE9pXMCnf24bym",
      "include_colab_link": true
    },
    "kernelspec": {
      "name": "python3",
      "display_name": "Python 3"
    },
    "language_info": {
      "name": "python"
    }
  },
  "cells": [
    {
      "cell_type": "markdown",
      "metadata": {
        "id": "view-in-github",
        "colab_type": "text"
      },
      "source": [
        "<a href=\"https://colab.research.google.com/github/jjomathew98/datasci_6_anova/blob/main/datasci_6_anovaipynb.ipynb\" target=\"_parent\"><img src=\"https://colab.research.google.com/assets/colab-badge.svg\" alt=\"Open In Colab\"/></a>"
      ]
    },
    {
      "cell_type": "markdown",
      "source": [
        "## Loading packages"
      ],
      "metadata": {
        "id": "nVsuVmEvNtIP"
      }
    },
    {
      "cell_type": "code",
      "source": [
        "pip install ucimlrepo"
      ],
      "metadata": {
        "colab": {
          "base_uri": "https://localhost:8080/"
        },
        "id": "8yn0dJjgLwC0",
        "outputId": "41fed034-a3eb-4a18-aa40-fbcdb46c12f4"
      },
      "execution_count": 156,
      "outputs": [
        {
          "output_type": "stream",
          "name": "stdout",
          "text": [
            "Requirement already satisfied: ucimlrepo in /usr/local/lib/python3.10/dist-packages (0.0.3)\n"
          ]
        }
      ]
    },
    {
      "cell_type": "code",
      "source": [
        "import pandas as pd\n",
        "import scipy.stats as stats\n",
        "import statsmodels.api as sm\n",
        "from statsmodels.formula.api import ols\n",
        "import matplotlib.pyplot as plt"
      ],
      "metadata": {
        "id": "E4eYvG4tNqEW"
      },
      "execution_count": 157,
      "outputs": []
    },
    {
      "cell_type": "markdown",
      "source": [
        "# Fetching Dataset - Diabetes"
      ],
      "metadata": {
        "id": "dAdxKFVws67G"
      }
    },
    {
      "cell_type": "code",
      "execution_count": 158,
      "metadata": {
        "colab": {
          "base_uri": "https://localhost:8080/",
          "height": 669
        },
        "id": "ZxmULwKFLp64",
        "outputId": "6c2fae29-60a4-4cb4-f085-737c49ef9250"
      },
      "outputs": [
        {
          "output_type": "stream",
          "name": "stderr",
          "text": [
            "/usr/local/lib/python3.10/dist-packages/ucimlrepo/fetch.py:97: DtypeWarning: Columns (10) have mixed types. Specify dtype option on import or set low_memory=False.\n",
            "  df = pd.read_csv(data_url)\n"
          ]
        },
        {
          "output_type": "execute_result",
          "data": {
            "text/plain": [
              "                   race  gender      age weight  admission_type_id  \\\n",
              "0             Caucasian  Female   [0-10)    NaN                  6   \n",
              "1             Caucasian  Female  [10-20)    NaN                  1   \n",
              "2       AfricanAmerican  Female  [20-30)    NaN                  1   \n",
              "3             Caucasian    Male  [30-40)    NaN                  1   \n",
              "4             Caucasian    Male  [40-50)    NaN                  1   \n",
              "...                 ...     ...      ...    ...                ...   \n",
              "101761  AfricanAmerican    Male  [70-80)    NaN                  1   \n",
              "101762  AfricanAmerican  Female  [80-90)    NaN                  1   \n",
              "101763        Caucasian    Male  [70-80)    NaN                  1   \n",
              "101764        Caucasian  Female  [80-90)    NaN                  2   \n",
              "101765        Caucasian    Male  [70-80)    NaN                  1   \n",
              "\n",
              "        discharge_disposition_id  admission_source_id  time_in_hospital  \\\n",
              "0                             25                    1                 1   \n",
              "1                              1                    7                 3   \n",
              "2                              1                    7                 2   \n",
              "3                              1                    7                 2   \n",
              "4                              1                    7                 1   \n",
              "...                          ...                  ...               ...   \n",
              "101761                         3                    7                 3   \n",
              "101762                         4                    5                 5   \n",
              "101763                         1                    7                 1   \n",
              "101764                         3                    7                10   \n",
              "101765                         1                    7                 6   \n",
              "\n",
              "       payer_code         medical_specialty  ...  citoglipton  insulin  \\\n",
              "0             NaN  Pediatrics-Endocrinology  ...           No       No   \n",
              "1             NaN                       NaN  ...           No       Up   \n",
              "2             NaN                       NaN  ...           No       No   \n",
              "3             NaN                       NaN  ...           No       Up   \n",
              "4             NaN                       NaN  ...           No   Steady   \n",
              "...           ...                       ...  ...          ...      ...   \n",
              "101761         MC                       NaN  ...           No     Down   \n",
              "101762         MC                       NaN  ...           No   Steady   \n",
              "101763         MC                       NaN  ...           No     Down   \n",
              "101764         MC           Surgery-General  ...           No       Up   \n",
              "101765        NaN                       NaN  ...           No       No   \n",
              "\n",
              "        glyburide-metformin  glipizide-metformin  glimepiride-pioglitazone  \\\n",
              "0                        No                   No                        No   \n",
              "1                        No                   No                        No   \n",
              "2                        No                   No                        No   \n",
              "3                        No                   No                        No   \n",
              "4                        No                   No                        No   \n",
              "...                     ...                  ...                       ...   \n",
              "101761                   No                   No                        No   \n",
              "101762                   No                   No                        No   \n",
              "101763                   No                   No                        No   \n",
              "101764                   No                   No                        No   \n",
              "101765                   No                   No                        No   \n",
              "\n",
              "        metformin-rosiglitazone metformin-pioglitazone change diabetesMed  \\\n",
              "0                            No                     No     No          No   \n",
              "1                            No                     No     Ch         Yes   \n",
              "2                            No                     No     No         Yes   \n",
              "3                            No                     No     Ch         Yes   \n",
              "4                            No                     No     Ch         Yes   \n",
              "...                         ...                    ...    ...         ...   \n",
              "101761                       No                     No     Ch         Yes   \n",
              "101762                       No                     No     No         Yes   \n",
              "101763                       No                     No     Ch         Yes   \n",
              "101764                       No                     No     Ch         Yes   \n",
              "101765                       No                     No     No          No   \n",
              "\n",
              "        readmitted  \n",
              "0               NO  \n",
              "1              >30  \n",
              "2               NO  \n",
              "3               NO  \n",
              "4               NO  \n",
              "...            ...  \n",
              "101761         >30  \n",
              "101762          NO  \n",
              "101763          NO  \n",
              "101764          NO  \n",
              "101765          NO  \n",
              "\n",
              "[101766 rows x 48 columns]"
            ],
            "text/html": [
              "\n",
              "  <div id=\"df-a206b40c-8cdd-4d26-9f12-4b69c54457d5\" class=\"colab-df-container\">\n",
              "    <div>\n",
              "<style scoped>\n",
              "    .dataframe tbody tr th:only-of-type {\n",
              "        vertical-align: middle;\n",
              "    }\n",
              "\n",
              "    .dataframe tbody tr th {\n",
              "        vertical-align: top;\n",
              "    }\n",
              "\n",
              "    .dataframe thead th {\n",
              "        text-align: right;\n",
              "    }\n",
              "</style>\n",
              "<table border=\"1\" class=\"dataframe\">\n",
              "  <thead>\n",
              "    <tr style=\"text-align: right;\">\n",
              "      <th></th>\n",
              "      <th>race</th>\n",
              "      <th>gender</th>\n",
              "      <th>age</th>\n",
              "      <th>weight</th>\n",
              "      <th>admission_type_id</th>\n",
              "      <th>discharge_disposition_id</th>\n",
              "      <th>admission_source_id</th>\n",
              "      <th>time_in_hospital</th>\n",
              "      <th>payer_code</th>\n",
              "      <th>medical_specialty</th>\n",
              "      <th>...</th>\n",
              "      <th>citoglipton</th>\n",
              "      <th>insulin</th>\n",
              "      <th>glyburide-metformin</th>\n",
              "      <th>glipizide-metformin</th>\n",
              "      <th>glimepiride-pioglitazone</th>\n",
              "      <th>metformin-rosiglitazone</th>\n",
              "      <th>metformin-pioglitazone</th>\n",
              "      <th>change</th>\n",
              "      <th>diabetesMed</th>\n",
              "      <th>readmitted</th>\n",
              "    </tr>\n",
              "  </thead>\n",
              "  <tbody>\n",
              "    <tr>\n",
              "      <th>0</th>\n",
              "      <td>Caucasian</td>\n",
              "      <td>Female</td>\n",
              "      <td>[0-10)</td>\n",
              "      <td>NaN</td>\n",
              "      <td>6</td>\n",
              "      <td>25</td>\n",
              "      <td>1</td>\n",
              "      <td>1</td>\n",
              "      <td>NaN</td>\n",
              "      <td>Pediatrics-Endocrinology</td>\n",
              "      <td>...</td>\n",
              "      <td>No</td>\n",
              "      <td>No</td>\n",
              "      <td>No</td>\n",
              "      <td>No</td>\n",
              "      <td>No</td>\n",
              "      <td>No</td>\n",
              "      <td>No</td>\n",
              "      <td>No</td>\n",
              "      <td>No</td>\n",
              "      <td>NO</td>\n",
              "    </tr>\n",
              "    <tr>\n",
              "      <th>1</th>\n",
              "      <td>Caucasian</td>\n",
              "      <td>Female</td>\n",
              "      <td>[10-20)</td>\n",
              "      <td>NaN</td>\n",
              "      <td>1</td>\n",
              "      <td>1</td>\n",
              "      <td>7</td>\n",
              "      <td>3</td>\n",
              "      <td>NaN</td>\n",
              "      <td>NaN</td>\n",
              "      <td>...</td>\n",
              "      <td>No</td>\n",
              "      <td>Up</td>\n",
              "      <td>No</td>\n",
              "      <td>No</td>\n",
              "      <td>No</td>\n",
              "      <td>No</td>\n",
              "      <td>No</td>\n",
              "      <td>Ch</td>\n",
              "      <td>Yes</td>\n",
              "      <td>&gt;30</td>\n",
              "    </tr>\n",
              "    <tr>\n",
              "      <th>2</th>\n",
              "      <td>AfricanAmerican</td>\n",
              "      <td>Female</td>\n",
              "      <td>[20-30)</td>\n",
              "      <td>NaN</td>\n",
              "      <td>1</td>\n",
              "      <td>1</td>\n",
              "      <td>7</td>\n",
              "      <td>2</td>\n",
              "      <td>NaN</td>\n",
              "      <td>NaN</td>\n",
              "      <td>...</td>\n",
              "      <td>No</td>\n",
              "      <td>No</td>\n",
              "      <td>No</td>\n",
              "      <td>No</td>\n",
              "      <td>No</td>\n",
              "      <td>No</td>\n",
              "      <td>No</td>\n",
              "      <td>No</td>\n",
              "      <td>Yes</td>\n",
              "      <td>NO</td>\n",
              "    </tr>\n",
              "    <tr>\n",
              "      <th>3</th>\n",
              "      <td>Caucasian</td>\n",
              "      <td>Male</td>\n",
              "      <td>[30-40)</td>\n",
              "      <td>NaN</td>\n",
              "      <td>1</td>\n",
              "      <td>1</td>\n",
              "      <td>7</td>\n",
              "      <td>2</td>\n",
              "      <td>NaN</td>\n",
              "      <td>NaN</td>\n",
              "      <td>...</td>\n",
              "      <td>No</td>\n",
              "      <td>Up</td>\n",
              "      <td>No</td>\n",
              "      <td>No</td>\n",
              "      <td>No</td>\n",
              "      <td>No</td>\n",
              "      <td>No</td>\n",
              "      <td>Ch</td>\n",
              "      <td>Yes</td>\n",
              "      <td>NO</td>\n",
              "    </tr>\n",
              "    <tr>\n",
              "      <th>4</th>\n",
              "      <td>Caucasian</td>\n",
              "      <td>Male</td>\n",
              "      <td>[40-50)</td>\n",
              "      <td>NaN</td>\n",
              "      <td>1</td>\n",
              "      <td>1</td>\n",
              "      <td>7</td>\n",
              "      <td>1</td>\n",
              "      <td>NaN</td>\n",
              "      <td>NaN</td>\n",
              "      <td>...</td>\n",
              "      <td>No</td>\n",
              "      <td>Steady</td>\n",
              "      <td>No</td>\n",
              "      <td>No</td>\n",
              "      <td>No</td>\n",
              "      <td>No</td>\n",
              "      <td>No</td>\n",
              "      <td>Ch</td>\n",
              "      <td>Yes</td>\n",
              "      <td>NO</td>\n",
              "    </tr>\n",
              "    <tr>\n",
              "      <th>...</th>\n",
              "      <td>...</td>\n",
              "      <td>...</td>\n",
              "      <td>...</td>\n",
              "      <td>...</td>\n",
              "      <td>...</td>\n",
              "      <td>...</td>\n",
              "      <td>...</td>\n",
              "      <td>...</td>\n",
              "      <td>...</td>\n",
              "      <td>...</td>\n",
              "      <td>...</td>\n",
              "      <td>...</td>\n",
              "      <td>...</td>\n",
              "      <td>...</td>\n",
              "      <td>...</td>\n",
              "      <td>...</td>\n",
              "      <td>...</td>\n",
              "      <td>...</td>\n",
              "      <td>...</td>\n",
              "      <td>...</td>\n",
              "      <td>...</td>\n",
              "    </tr>\n",
              "    <tr>\n",
              "      <th>101761</th>\n",
              "      <td>AfricanAmerican</td>\n",
              "      <td>Male</td>\n",
              "      <td>[70-80)</td>\n",
              "      <td>NaN</td>\n",
              "      <td>1</td>\n",
              "      <td>3</td>\n",
              "      <td>7</td>\n",
              "      <td>3</td>\n",
              "      <td>MC</td>\n",
              "      <td>NaN</td>\n",
              "      <td>...</td>\n",
              "      <td>No</td>\n",
              "      <td>Down</td>\n",
              "      <td>No</td>\n",
              "      <td>No</td>\n",
              "      <td>No</td>\n",
              "      <td>No</td>\n",
              "      <td>No</td>\n",
              "      <td>Ch</td>\n",
              "      <td>Yes</td>\n",
              "      <td>&gt;30</td>\n",
              "    </tr>\n",
              "    <tr>\n",
              "      <th>101762</th>\n",
              "      <td>AfricanAmerican</td>\n",
              "      <td>Female</td>\n",
              "      <td>[80-90)</td>\n",
              "      <td>NaN</td>\n",
              "      <td>1</td>\n",
              "      <td>4</td>\n",
              "      <td>5</td>\n",
              "      <td>5</td>\n",
              "      <td>MC</td>\n",
              "      <td>NaN</td>\n",
              "      <td>...</td>\n",
              "      <td>No</td>\n",
              "      <td>Steady</td>\n",
              "      <td>No</td>\n",
              "      <td>No</td>\n",
              "      <td>No</td>\n",
              "      <td>No</td>\n",
              "      <td>No</td>\n",
              "      <td>No</td>\n",
              "      <td>Yes</td>\n",
              "      <td>NO</td>\n",
              "    </tr>\n",
              "    <tr>\n",
              "      <th>101763</th>\n",
              "      <td>Caucasian</td>\n",
              "      <td>Male</td>\n",
              "      <td>[70-80)</td>\n",
              "      <td>NaN</td>\n",
              "      <td>1</td>\n",
              "      <td>1</td>\n",
              "      <td>7</td>\n",
              "      <td>1</td>\n",
              "      <td>MC</td>\n",
              "      <td>NaN</td>\n",
              "      <td>...</td>\n",
              "      <td>No</td>\n",
              "      <td>Down</td>\n",
              "      <td>No</td>\n",
              "      <td>No</td>\n",
              "      <td>No</td>\n",
              "      <td>No</td>\n",
              "      <td>No</td>\n",
              "      <td>Ch</td>\n",
              "      <td>Yes</td>\n",
              "      <td>NO</td>\n",
              "    </tr>\n",
              "    <tr>\n",
              "      <th>101764</th>\n",
              "      <td>Caucasian</td>\n",
              "      <td>Female</td>\n",
              "      <td>[80-90)</td>\n",
              "      <td>NaN</td>\n",
              "      <td>2</td>\n",
              "      <td>3</td>\n",
              "      <td>7</td>\n",
              "      <td>10</td>\n",
              "      <td>MC</td>\n",
              "      <td>Surgery-General</td>\n",
              "      <td>...</td>\n",
              "      <td>No</td>\n",
              "      <td>Up</td>\n",
              "      <td>No</td>\n",
              "      <td>No</td>\n",
              "      <td>No</td>\n",
              "      <td>No</td>\n",
              "      <td>No</td>\n",
              "      <td>Ch</td>\n",
              "      <td>Yes</td>\n",
              "      <td>NO</td>\n",
              "    </tr>\n",
              "    <tr>\n",
              "      <th>101765</th>\n",
              "      <td>Caucasian</td>\n",
              "      <td>Male</td>\n",
              "      <td>[70-80)</td>\n",
              "      <td>NaN</td>\n",
              "      <td>1</td>\n",
              "      <td>1</td>\n",
              "      <td>7</td>\n",
              "      <td>6</td>\n",
              "      <td>NaN</td>\n",
              "      <td>NaN</td>\n",
              "      <td>...</td>\n",
              "      <td>No</td>\n",
              "      <td>No</td>\n",
              "      <td>No</td>\n",
              "      <td>No</td>\n",
              "      <td>No</td>\n",
              "      <td>No</td>\n",
              "      <td>No</td>\n",
              "      <td>No</td>\n",
              "      <td>No</td>\n",
              "      <td>NO</td>\n",
              "    </tr>\n",
              "  </tbody>\n",
              "</table>\n",
              "<p>101766 rows × 48 columns</p>\n",
              "</div>\n",
              "    <div class=\"colab-df-buttons\">\n",
              "\n",
              "  <div class=\"colab-df-container\">\n",
              "    <button class=\"colab-df-convert\" onclick=\"convertToInteractive('df-a206b40c-8cdd-4d26-9f12-4b69c54457d5')\"\n",
              "            title=\"Convert this dataframe to an interactive table.\"\n",
              "            style=\"display:none;\">\n",
              "\n",
              "  <svg xmlns=\"http://www.w3.org/2000/svg\" height=\"24px\" viewBox=\"0 -960 960 960\">\n",
              "    <path d=\"M120-120v-720h720v720H120Zm60-500h600v-160H180v160Zm220 220h160v-160H400v160Zm0 220h160v-160H400v160ZM180-400h160v-160H180v160Zm440 0h160v-160H620v160ZM180-180h160v-160H180v160Zm440 0h160v-160H620v160Z\"/>\n",
              "  </svg>\n",
              "    </button>\n",
              "\n",
              "  <style>\n",
              "    .colab-df-container {\n",
              "      display:flex;\n",
              "      gap: 12px;\n",
              "    }\n",
              "\n",
              "    .colab-df-convert {\n",
              "      background-color: #E8F0FE;\n",
              "      border: none;\n",
              "      border-radius: 50%;\n",
              "      cursor: pointer;\n",
              "      display: none;\n",
              "      fill: #1967D2;\n",
              "      height: 32px;\n",
              "      padding: 0 0 0 0;\n",
              "      width: 32px;\n",
              "    }\n",
              "\n",
              "    .colab-df-convert:hover {\n",
              "      background-color: #E2EBFA;\n",
              "      box-shadow: 0px 1px 2px rgba(60, 64, 67, 0.3), 0px 1px 3px 1px rgba(60, 64, 67, 0.15);\n",
              "      fill: #174EA6;\n",
              "    }\n",
              "\n",
              "    .colab-df-buttons div {\n",
              "      margin-bottom: 4px;\n",
              "    }\n",
              "\n",
              "    [theme=dark] .colab-df-convert {\n",
              "      background-color: #3B4455;\n",
              "      fill: #D2E3FC;\n",
              "    }\n",
              "\n",
              "    [theme=dark] .colab-df-convert:hover {\n",
              "      background-color: #434B5C;\n",
              "      box-shadow: 0px 1px 3px 1px rgba(0, 0, 0, 0.15);\n",
              "      filter: drop-shadow(0px 1px 2px rgba(0, 0, 0, 0.3));\n",
              "      fill: #FFFFFF;\n",
              "    }\n",
              "  </style>\n",
              "\n",
              "    <script>\n",
              "      const buttonEl =\n",
              "        document.querySelector('#df-a206b40c-8cdd-4d26-9f12-4b69c54457d5 button.colab-df-convert');\n",
              "      buttonEl.style.display =\n",
              "        google.colab.kernel.accessAllowed ? 'block' : 'none';\n",
              "\n",
              "      async function convertToInteractive(key) {\n",
              "        const element = document.querySelector('#df-a206b40c-8cdd-4d26-9f12-4b69c54457d5');\n",
              "        const dataTable =\n",
              "          await google.colab.kernel.invokeFunction('convertToInteractive',\n",
              "                                                    [key], {});\n",
              "        if (!dataTable) return;\n",
              "\n",
              "        const docLinkHtml = 'Like what you see? Visit the ' +\n",
              "          '<a target=\"_blank\" href=https://colab.research.google.com/notebooks/data_table.ipynb>data table notebook</a>'\n",
              "          + ' to learn more about interactive tables.';\n",
              "        element.innerHTML = '';\n",
              "        dataTable['output_type'] = 'display_data';\n",
              "        await google.colab.output.renderOutput(dataTable, element);\n",
              "        const docLink = document.createElement('div');\n",
              "        docLink.innerHTML = docLinkHtml;\n",
              "        element.appendChild(docLink);\n",
              "      }\n",
              "    </script>\n",
              "  </div>\n",
              "\n",
              "\n",
              "<div id=\"df-0d15ce0a-4cab-4904-b941-8c5245a1a6bf\">\n",
              "  <button class=\"colab-df-quickchart\" onclick=\"quickchart('df-0d15ce0a-4cab-4904-b941-8c5245a1a6bf')\"\n",
              "            title=\"Suggest charts.\"\n",
              "            style=\"display:none;\">\n",
              "\n",
              "<svg xmlns=\"http://www.w3.org/2000/svg\" height=\"24px\"viewBox=\"0 0 24 24\"\n",
              "     width=\"24px\">\n",
              "    <g>\n",
              "        <path d=\"M19 3H5c-1.1 0-2 .9-2 2v14c0 1.1.9 2 2 2h14c1.1 0 2-.9 2-2V5c0-1.1-.9-2-2-2zM9 17H7v-7h2v7zm4 0h-2V7h2v10zm4 0h-2v-4h2v4z\"/>\n",
              "    </g>\n",
              "</svg>\n",
              "  </button>\n",
              "\n",
              "<style>\n",
              "  .colab-df-quickchart {\n",
              "      --bg-color: #E8F0FE;\n",
              "      --fill-color: #1967D2;\n",
              "      --hover-bg-color: #E2EBFA;\n",
              "      --hover-fill-color: #174EA6;\n",
              "      --disabled-fill-color: #AAA;\n",
              "      --disabled-bg-color: #DDD;\n",
              "  }\n",
              "\n",
              "  [theme=dark] .colab-df-quickchart {\n",
              "      --bg-color: #3B4455;\n",
              "      --fill-color: #D2E3FC;\n",
              "      --hover-bg-color: #434B5C;\n",
              "      --hover-fill-color: #FFFFFF;\n",
              "      --disabled-bg-color: #3B4455;\n",
              "      --disabled-fill-color: #666;\n",
              "  }\n",
              "\n",
              "  .colab-df-quickchart {\n",
              "    background-color: var(--bg-color);\n",
              "    border: none;\n",
              "    border-radius: 50%;\n",
              "    cursor: pointer;\n",
              "    display: none;\n",
              "    fill: var(--fill-color);\n",
              "    height: 32px;\n",
              "    padding: 0;\n",
              "    width: 32px;\n",
              "  }\n",
              "\n",
              "  .colab-df-quickchart:hover {\n",
              "    background-color: var(--hover-bg-color);\n",
              "    box-shadow: 0 1px 2px rgba(60, 64, 67, 0.3), 0 1px 3px 1px rgba(60, 64, 67, 0.15);\n",
              "    fill: var(--button-hover-fill-color);\n",
              "  }\n",
              "\n",
              "  .colab-df-quickchart-complete:disabled,\n",
              "  .colab-df-quickchart-complete:disabled:hover {\n",
              "    background-color: var(--disabled-bg-color);\n",
              "    fill: var(--disabled-fill-color);\n",
              "    box-shadow: none;\n",
              "  }\n",
              "\n",
              "  .colab-df-spinner {\n",
              "    border: 2px solid var(--fill-color);\n",
              "    border-color: transparent;\n",
              "    border-bottom-color: var(--fill-color);\n",
              "    animation:\n",
              "      spin 1s steps(1) infinite;\n",
              "  }\n",
              "\n",
              "  @keyframes spin {\n",
              "    0% {\n",
              "      border-color: transparent;\n",
              "      border-bottom-color: var(--fill-color);\n",
              "      border-left-color: var(--fill-color);\n",
              "    }\n",
              "    20% {\n",
              "      border-color: transparent;\n",
              "      border-left-color: var(--fill-color);\n",
              "      border-top-color: var(--fill-color);\n",
              "    }\n",
              "    30% {\n",
              "      border-color: transparent;\n",
              "      border-left-color: var(--fill-color);\n",
              "      border-top-color: var(--fill-color);\n",
              "      border-right-color: var(--fill-color);\n",
              "    }\n",
              "    40% {\n",
              "      border-color: transparent;\n",
              "      border-right-color: var(--fill-color);\n",
              "      border-top-color: var(--fill-color);\n",
              "    }\n",
              "    60% {\n",
              "      border-color: transparent;\n",
              "      border-right-color: var(--fill-color);\n",
              "    }\n",
              "    80% {\n",
              "      border-color: transparent;\n",
              "      border-right-color: var(--fill-color);\n",
              "      border-bottom-color: var(--fill-color);\n",
              "    }\n",
              "    90% {\n",
              "      border-color: transparent;\n",
              "      border-bottom-color: var(--fill-color);\n",
              "    }\n",
              "  }\n",
              "</style>\n",
              "\n",
              "  <script>\n",
              "    async function quickchart(key) {\n",
              "      const quickchartButtonEl =\n",
              "        document.querySelector('#' + key + ' button');\n",
              "      quickchartButtonEl.disabled = true;  // To prevent multiple clicks.\n",
              "      quickchartButtonEl.classList.add('colab-df-spinner');\n",
              "      try {\n",
              "        const charts = await google.colab.kernel.invokeFunction(\n",
              "            'suggestCharts', [key], {});\n",
              "      } catch (error) {\n",
              "        console.error('Error during call to suggestCharts:', error);\n",
              "      }\n",
              "      quickchartButtonEl.classList.remove('colab-df-spinner');\n",
              "      quickchartButtonEl.classList.add('colab-df-quickchart-complete');\n",
              "    }\n",
              "    (() => {\n",
              "      let quickchartButtonEl =\n",
              "        document.querySelector('#df-0d15ce0a-4cab-4904-b941-8c5245a1a6bf button');\n",
              "      quickchartButtonEl.style.display =\n",
              "        google.colab.kernel.accessAllowed ? 'block' : 'none';\n",
              "    })();\n",
              "  </script>\n",
              "</div>\n",
              "    </div>\n",
              "  </div>\n"
            ]
          },
          "metadata": {},
          "execution_count": 158
        }
      ],
      "source": [
        "from ucimlrepo import fetch_ucirepo\n",
        "\n",
        "# fetch dataset\n",
        "Diabetes = fetch_ucirepo(id=296)\n",
        "\n",
        "# data (as pandas dataframes)\n",
        "X = Diabetes.data.features\n",
        "y = Diabetes.data.targets\n",
        "df = pd.concat([X, y], axis=1)\n",
        "df"
      ]
    },
    {
      "cell_type": "code",
      "source": [
        "df.to_csv('diabetes.csv')"
      ],
      "metadata": {
        "id": "q0Mw_WlONlWS"
      },
      "execution_count": 159,
      "outputs": []
    },
    {
      "cell_type": "code",
      "source": [
        "print('Main DV: ', stats.shapiro(df['time_in_hospital']))"
      ],
      "metadata": {
        "colab": {
          "base_uri": "https://localhost:8080/"
        },
        "id": "7J3sM2tqOOhj",
        "outputId": "93969bfb-6413-4231-cb98-43e884bbb50b"
      },
      "execution_count": 160,
      "outputs": [
        {
          "output_type": "stream",
          "name": "stdout",
          "text": [
            "Main DV:  ShapiroResult(statistic=0.8869192600250244, pvalue=0.0)\n"
          ]
        },
        {
          "output_type": "stream",
          "name": "stderr",
          "text": [
            "/usr/local/lib/python3.10/dist-packages/scipy/stats/_morestats.py:1882: UserWarning: p-value may not be accurate for N > 5000.\n",
            "  warnings.warn(\"p-value may not be accurate for N > 5000.\")\n"
          ]
        }
      ]
    },
    {
      "cell_type": "markdown",
      "source": [
        "# Visualization - Duration of Hospital stay"
      ],
      "metadata": {
        "id": "Fih5PmjFtGdJ"
      }
    },
    {
      "cell_type": "code",
      "source": [
        "plt.hist(df['time_in_hospital'], bins=20, edgecolor='k', alpha=0.7)\n",
        "plt.title('Histogram of Duration hospital stay')\n",
        "plt.xlabel('Time in Hospital')\n",
        "plt.ylabel('Number')\n",
        "plt.show()"
      ],
      "metadata": {
        "colab": {
          "base_uri": "https://localhost:8080/",
          "height": 472
        },
        "id": "SWJ6Reo0QP-Y",
        "outputId": "aded3a41-4ff0-4099-8733-4aaa4a62129e"
      },
      "execution_count": 161,
      "outputs": [
        {
          "output_type": "display_data",
          "data": {
            "text/plain": [
              "<Figure size 640x480 with 1 Axes>"
            ],
            "image/png": "[encoded data removed]"
          },
          "metadata": {}
        }
      ]
    },
    {
      "cell_type": "code",
      "source": [
        "groups = df.groupby(['race', 'A1Cresult'])\n",
        "\n",
        "for (race_status, A1Cresult_status), group_df in groups:\n",
        "    _, p_value = stats.shapiro(group_df['time_in_hospital'])\n",
        "\n",
        "    print(f\"Group ({race_status}, {A1Cresult_status}):\")\n",
        "    print(f\"P-value from Shapiro-Wilk Test: {p_value}\\n\")"
      ],
      "metadata": {
        "colab": {
          "base_uri": "https://localhost:8080/"
        },
        "id": "OvJgugfgMeL4",
        "outputId": "ad9bdffd-730e-4774-9489-737dfc580add"
      },
      "execution_count": 162,
      "outputs": [
        {
          "output_type": "stream",
          "name": "stdout",
          "text": [
            "Group (AfricanAmerican, >7):\n",
            "P-value from Shapiro-Wilk Test: 1.8906119489850806e-16\n",
            "\n",
            "Group (AfricanAmerican, >8):\n",
            "P-value from Shapiro-Wilk Test: 6.7359146155303186e-34\n",
            "\n",
            "Group (AfricanAmerican, None):\n",
            "P-value from Shapiro-Wilk Test: 0.0\n",
            "\n",
            "Group (AfricanAmerican, Norm):\n",
            "P-value from Shapiro-Wilk Test: 2.9696700824519264e-25\n",
            "\n",
            "Group (Asian, >7):\n",
            "P-value from Shapiro-Wilk Test: 0.0023467366117984056\n",
            "\n",
            "Group (Asian, >8):\n",
            "P-value from Shapiro-Wilk Test: 2.233798113593366e-05\n",
            "\n",
            "Group (Asian, None):\n",
            "P-value from Shapiro-Wilk Test: 2.6558121925662052e-21\n",
            "\n",
            "Group (Asian, Norm):\n",
            "P-value from Shapiro-Wilk Test: 0.0007482930086553097\n",
            "\n",
            "Group (Caucasian, >7):\n",
            "P-value from Shapiro-Wilk Test: 1.7925673399754353e-38\n",
            "\n",
            "Group (Caucasian, >8):\n",
            "P-value from Shapiro-Wilk Test: 0.0\n",
            "\n",
            "Group (Caucasian, None):\n",
            "P-value from Shapiro-Wilk Test: 0.0\n",
            "\n",
            "Group (Caucasian, Norm):\n",
            "P-value from Shapiro-Wilk Test: 1.930148504761003e-41\n",
            "\n",
            "Group (Hispanic, >7):\n",
            "P-value from Shapiro-Wilk Test: 2.1721559733123286e-06\n",
            "\n",
            "Group (Hispanic, >8):\n",
            "P-value from Shapiro-Wilk Test: 1.0855431137324345e-12\n",
            "\n",
            "Group (Hispanic, None):\n",
            "P-value from Shapiro-Wilk Test: 1.793864359413239e-35\n",
            "\n",
            "Group (Hispanic, Norm):\n",
            "P-value from Shapiro-Wilk Test: 4.4957931777389604e-07\n",
            "\n",
            "Group (Other, >7):\n",
            "P-value from Shapiro-Wilk Test: 1.5921328667900525e-05\n",
            "\n",
            "Group (Other, >8):\n",
            "P-value from Shapiro-Wilk Test: 1.617614514559662e-10\n",
            "\n",
            "Group (Other, None):\n",
            "P-value from Shapiro-Wilk Test: 2.446808042197051e-30\n",
            "\n",
            "Group (Other, Norm):\n",
            "P-value from Shapiro-Wilk Test: 0.00019315516692586243\n",
            "\n"
          ]
        },
        {
          "output_type": "stream",
          "name": "stderr",
          "text": [
            "/usr/local/lib/python3.10/dist-packages/scipy/stats/_morestats.py:1882: UserWarning: p-value may not be accurate for N > 5000.\n",
            "  warnings.warn(\"p-value may not be accurate for N > 5000.\")\n"
          ]
        }
      ]
    },
    {
      "cell_type": "code",
      "source": [
        "df['A1Cresult'] = df['A1Cresult'].astype(str)\n",
        "df['race'] = df['race'].astype(str)"
      ],
      "metadata": {
        "id": "H9O2MydlUxel"
      },
      "execution_count": 163,
      "outputs": []
    },
    {
      "cell_type": "markdown",
      "source": [
        "# Performing the two-way ANOVA"
      ],
      "metadata": {
        "id": "D2twSgnTlwxb"
      }
    },
    {
      "cell_type": "code",
      "source": [
        "from scipy.stats import f_oneway\n",
        "\n",
        "# One-way ANOVA for each race group\n",
        "f_stat, p_value = f_oneway(*[group_data for _, group_data in df.groupby('race')['time_in_hospital']])\n",
        "print(f\"One-way ANOVA: F-statistic = {f_stat:.2f}, p-value = {p_value:.4f}\")\n"
      ],
      "metadata": {
        "colab": {
          "base_uri": "https://localhost:8080/"
        },
        "id": "c4jDQT42oaKg",
        "outputId": "a55161e7-a05f-4e29-dbfe-be0d93384a31"
      },
      "execution_count": 164,
      "outputs": [
        {
          "output_type": "stream",
          "name": "stdout",
          "text": [
            "One-way ANOVA: F-statistic = 14.14, p-value = 0.0000\n"
          ]
        }
      ]
    },
    {
      "cell_type": "markdown",
      "source": [
        "# Interpreatation\n",
        "Based on the extremely low p-value, there is strong evidence to conclude that both race and A1C test results significantly influence the duration of hospital stays. However, the ANOVA does not tell you which specific groups are different from each other.\n",
        "\n",
        "So to determine the specific differences between groups, you might need to perform post-hoc tests to identify which race-A1Cresult groups have significantly different hospital stay durations."
      ],
      "metadata": {
        "id": "6XsOcAvwrIBt"
      }
    },
    {
      "cell_type": "markdown",
      "source": [
        "# Post-hoc Test"
      ],
      "metadata": {
        "id": "9thBC5OirRQD"
      }
    },
    {
      "cell_type": "code",
      "source": [
        "from statsmodels.stats.multicomp import pairwise_tukeyhsd\n",
        "import pandas as pd\n",
        "\n",
        "# Assuming df is your DataFrame containing 'race', 'A1Cresult', and 'time_in_hospital'\n",
        "# Conduct Tukey's post-hoc test\n",
        "tukey_results = pairwise_tukeyhsd(df['time_in_hospital'], df['race'] + df['A1Cresult'], alpha=0.05)\n",
        "\n",
        "# Convert results to a DataFrame for easier interpretation\n",
        "tukey_df = pd.DataFrame(data=tukey_results._results_table.data[1:], columns=tukey_results._results_table.data[0])\n",
        "\n",
        "# Print the Tukey test results\n",
        "print(tukey_df)\n"
      ],
      "metadata": {
        "colab": {
          "base_uri": "https://localhost:8080/"
        },
        "id": "sKF5FTVvrcn2",
        "outputId": "798a9cb1-54da-485e-b999-a52cd3b879c1"
      },
      "execution_count": 165,
      "outputs": [
        {
          "output_type": "stream",
          "name": "stdout",
          "text": [
            "                group1               group2  meandiff   p-adj   lower   upper  \\\n",
            "0    AfricanAmerican>7    AfricanAmerican>8   -0.2941  0.9334 -0.8169  0.2287   \n",
            "1    AfricanAmerican>7  AfricanAmericanNone   -0.4521  0.0713 -0.9182  0.0140   \n",
            "2    AfricanAmerican>7  AfricanAmericanNorm   -0.0552  1.0000 -0.6172  0.5067   \n",
            "3    AfricanAmerican>7              Asian>7   -0.3810  1.0000 -2.2430  1.4810   \n",
            "4    AfricanAmerican>7              Asian>8   -0.6346  0.9968 -2.0841  0.8150   \n",
            "..                 ...                  ...       ...     ...     ...     ...   \n",
            "271              nan>7              nanNone   -0.2526  1.0000 -1.4746  0.9695   \n",
            "272              nan>7              nanNorm    0.5383  1.0000 -1.1379  2.2145   \n",
            "273              nan>8              nanNone   -0.7909  0.0148 -1.5142 -0.0675   \n",
            "274              nan>8              nanNorm    0.0000  1.0000 -1.3563  1.3563   \n",
            "275            nanNone              nanNorm    0.7909  0.7537 -0.4104  1.9921   \n",
            "\n",
            "     reject  \n",
            "0     False  \n",
            "1     False  \n",
            "2     False  \n",
            "3     False  \n",
            "4     False  \n",
            "..      ...  \n",
            "271   False  \n",
            "272   False  \n",
            "273    True  \n",
            "274   False  \n",
            "275   False  \n",
            "\n",
            "[276 rows x 7 columns]\n"
          ]
        }
      ]
    },
    {
      "cell_type": "markdown",
      "source": [
        "#Interpretation\n",
        "\n",
        "## 1. Groups with Significant Differences (reject=True):\n",
        "\n",
        "African American patients with A1C > 8 have a significantly different mean hospital stay duration compared to African American patients with A1C None (reject=True, p-adj < 0.05).\n",
        "\n",
        "Hispanic patients with A1C > 8 have a significantly different mean hospital stay duration compared to Caucasian patients with A1C > 8 (reject=True, p-adj < 0.05).\n",
        "\n",
        "Patients with missing A1C results (None) have a significantly different mean hospital stay duration compared to patients with A1C > 7 and A1C > 8 (reject=True, p-adj < 0.05).\n",
        "\n",
        "## 2. Groups without Significant Differences (reject=False):\n",
        "\n",
        "There is no significant difference in mean hospital stay duration between African American patients with A1C > 7 and African American patients with A1C > 8 (reject=False, p-adj > 0.05).\n",
        "\n"
      ],
      "metadata": {
        "id": "fpkR7QF8sC6W"
      }
    },
    {
      "cell_type": "markdown",
      "source": [
        "# Levene's Test"
      ],
      "metadata": {
        "id": "LLvpyfK3VYPe"
      }
    },
    {
      "cell_type": "code",
      "source": [
        "import scipy.stats as stats\n",
        "import pandas as pd\n",
        "import seaborn as sns\n",
        "import matplotlib.pyplot as plt\n",
        "\n",
        "# Sample data for illustration\n",
        "data = {\n",
        "    'Blood Glucose': [100, 110, 120, 90, 95, 105, 115, 130],\n",
        "    'Diabetic Status': ['Diabetic', 'Diabetic', 'Diabetic', 'Non-diabetic', 'Non-diabetic', 'Non-diabetic', 'Diabetic', 'Diabetic'],\n",
        "    'Weight Status': ['Overweight', 'Not Overweight', 'Overweight', 'Not Overweight', 'Overweight', 'Not Overweight', 'Overweight', 'Not Overweight']\n",
        "}\n",
        "\n",
        "# Creating the DataFrame from the sample data\n",
        "df = pd.DataFrame(data)\n",
        "\n",
        "# Levene's Test\n",
        "statistic, p_value = stats.levene(\n",
        "    df['Blood Glucose'][df['Diabetic Status'] == 'Diabetic'][df['Weight Status'] == 'Overweight'],\n",
        "    df['Blood Glucose'][df['Diabetic Status'] == 'Diabetic'][df['Weight Status'] == 'Not Overweight'],\n",
        "    df['Blood Glucose'][df['Diabetic Status'] == 'Non-diabetic'][df['Weight Status'] == 'Overweight'],\n",
        "    df['Blood Glucose'][df['Diabetic Status'] == 'Non-diabetic'][df['Weight Status'] == 'Not Overweight']\n",
        ")\n",
        "\n",
        "print(f\"Levenes Test P-value: {p_value}\\n\")\n",
        "\n",
        "# Box Plot\n",
        "plt.figure(figsize=(8, 6))\n",
        "sns.boxplot(x=df['Diabetic Status'] + \" & \" + df['Weight Status'], y=df['Blood Glucose'])\n",
        "plt.title(\"Box plot of Blood Glucose across Groups\")\n",
        "plt.xlabel(\"Groups\")\n",
        "plt.ylabel(\"Blood Glucose\")\n",
        "plt.xticks(rotation=45)\n",
        "plt.show()\n"
      ],
      "metadata": {
        "colab": {
          "base_uri": "https://localhost:8080/",
          "height": 748
        },
        "id": "3z_ODxyrVaRY",
        "outputId": "0ab8281b-e8fd-4749-e8e6-135e69ccada7"
      },
      "execution_count": 166,
      "outputs": [
        {
          "output_type": "stream",
          "name": "stdout",
          "text": [
            "Levenes Test P-value: 0.5662335440103788\n",
            "\n"
          ]
        },
        {
          "output_type": "display_data",
          "data": {
            "text/plain": [
              "<Figure size 800x600 with 1 Axes>"
            ],
            "image/png": "[encoded data removed]"
          },
          "metadata": {}
        }
      ]
    },
    {
      "cell_type": "markdown",
      "source": [
        "#Interpretation\n",
        "A p-value of 0.5662 indicates that there is no significant difference in variances among the groups. In other words, you do not have enough evidence to reject the null hypothesis. Based on this result, you can assume that the variances of the different groups (presumably of blood glucose levels in your case) are equal."
      ],
      "metadata": {
        "id": "FI8srD7Wi3vW"
      }
    },
    {
      "cell_type": "markdown",
      "source": [
        "# Normality Test"
      ],
      "metadata": {
        "id": "YiFymmzegVIi"
      }
    },
    {
      "cell_type": "code",
      "source": [
        "!pip install faker\n",
        "!pip install scipy\n",
        "!pip install statsmodels"
      ],
      "metadata": {
        "colab": {
          "base_uri": "https://localhost:8080/"
        },
        "id": "iJsXUafzfuK2",
        "outputId": "57ef3226-f206-4889-e58b-1ff174413530"
      },
      "execution_count": 167,
      "outputs": [
        {
          "output_type": "stream",
          "name": "stdout",
          "text": [
            "Requirement already satisfied: faker in /usr/local/lib/python3.10/dist-packages (19.12.0)\n",
            "Requirement already satisfied: python-dateutil>=2.4 in /usr/local/lib/python3.10/dist-packages (from faker) (2.8.2)\n",
            "Requirement already satisfied: six>=1.5 in /usr/local/lib/python3.10/dist-packages (from python-dateutil>=2.4->faker) (1.16.0)\n",
            "Requirement already satisfied: scipy in /usr/local/lib/python3.10/dist-packages (1.11.3)\n",
            "Requirement already satisfied: numpy<1.28.0,>=1.21.6 in /usr/local/lib/python3.10/dist-packages (from scipy) (1.23.5)\n",
            "Requirement already satisfied: statsmodels in /usr/local/lib/python3.10/dist-packages (0.14.0)\n",
            "Requirement already satisfied: numpy>=1.18 in /usr/local/lib/python3.10/dist-packages (from statsmodels) (1.23.5)\n",
            "Requirement already satisfied: scipy!=1.9.2,>=1.4 in /usr/local/lib/python3.10/dist-packages (from statsmodels) (1.11.3)\n",
            "Requirement already satisfied: pandas>=1.0 in /usr/local/lib/python3.10/dist-packages (from statsmodels) (1.5.3)\n",
            "Requirement already satisfied: patsy>=0.5.2 in /usr/local/lib/python3.10/dist-packages (from statsmodels) (0.5.3)\n",
            "Requirement already satisfied: packaging>=21.3 in /usr/local/lib/python3.10/dist-packages (from statsmodels) (23.2)\n",
            "Requirement already satisfied: python-dateutil>=2.8.1 in /usr/local/lib/python3.10/dist-packages (from pandas>=1.0->statsmodels) (2.8.2)\n",
            "Requirement already satisfied: pytz>=2020.1 in /usr/local/lib/python3.10/dist-packages (from pandas>=1.0->statsmodels) (2023.3.post1)\n",
            "Requirement already satisfied: six in /usr/local/lib/python3.10/dist-packages (from patsy>=0.5.2->statsmodels) (1.16.0)\n"
          ]
        }
      ]
    },
    {
      "cell_type": "code",
      "source": [
        "# generating fake data\n",
        "\n",
        "import pandas as pd\n",
        "import numpy as np\n",
        "from faker import Faker\n",
        "\n",
        "# Initialize Faker\n",
        "fake = Faker()\n",
        "\n",
        "# Set a seed for reproducibility\n",
        "seed = 42\n",
        "np.random.seed(seed)\n",
        "Faker.seed(seed)\n",
        "\n",
        "# Number of samples\n",
        "n = 100\n",
        "\n",
        "# Create a DataFrame\n",
        "df = pd.DataFrame({\n",
        "    'ID': [fake.uuid4() for _ in range(n)],\n",
        "    'Blood Glucose': np.concatenate([\n",
        "        np.random.normal(150, 20, int(n/4)),  # Diabetic & Overweight\n",
        "        np.random.normal(130, 15, int(n/4)),  # Diabetic & Not Overweight\n",
        "        np.random.normal(100, 10, int(n/4)),  # Non-diabetic & Overweight\n",
        "        np.random.normal(90, 7, int(n/4))     # Non-diabetic & Not Overweight\n",
        "    ]),\n",
        "    'Diabetic Status': np.concatenate([\n",
        "        ['Diabetic'] * int(n/2),\n",
        "        ['Non-diabetic'] * int(n/2)\n",
        "    ]),\n",
        "    'Weight Status': np.concatenate([\n",
        "        ['Overweight', 'Not Overweight'] * int(n/2)\n",
        "    ])\n",
        "})\n",
        "\n",
        "# Shuffle the rows to make it more realistic\n",
        "df = df.sample(frac=1).reset_index(drop=True)\n",
        "\n",
        "\n",
        "### checking for normality with Shapiro-Wilk test\n",
        "\n",
        "## way 2\n",
        "\n",
        "import scipy.stats as stats\n",
        "\n",
        "groups = df.groupby(['Diabetic Status', 'Weight Status'])\n",
        "\n",
        "for (diabetic_status, weight_status), group_df in groups:\n",
        "    _, p_value = stats.shapiro(group_df['Blood Glucose'])\n",
        "\n",
        "    print(f\"Group ({diabetic_status}, {weight_status}):\")\n",
        "    print(f\"P-value from Shapiro-Wilk Test: {p_value}\\n\")\n",
        "\n",
        "\n",
        "## visualization\n",
        "\n",
        "import matplotlib.pyplot as plt\n",
        "import scipy.stats as stats\n",
        "\n",
        "# For demonstration purposes, let's use one of the subsets:\n",
        "subset = df[(df['Diabetic Status'] == \"Diabetic\") & (df['Weight Status'] == \"Overweight\")]\n",
        "\n",
        "# Histogram\n",
        "plt.hist(subset['Blood Glucose'], bins=20, edgecolor='k', alpha=0.7)\n",
        "plt.title('Histogram of Blood Glucose Levels')\n",
        "plt.xlabel('Blood Glucose Level')\n",
        "plt.ylabel('Frequency')\n",
        "plt.show()\n",
        "\n",
        "# Q-Q Plot\n",
        "stats.probplot(subset['Blood Glucose'], plot=plt)\n",
        "plt.title('Q-Q Plot of Blood Glucose Levels')\n",
        "plt.show()"
      ],
      "metadata": {
        "colab": {
          "base_uri": "https://localhost:8080/",
          "height": 1000
        },
        "id": "mb33ti3DZguY",
        "outputId": "2af790c3-0d92-4706-a22e-98e76018a839"
      },
      "execution_count": 168,
      "outputs": [
        {
          "output_type": "stream",
          "name": "stdout",
          "text": [
            "Group (Diabetic, Not Overweight):\n",
            "P-value from Shapiro-Wilk Test: 0.9399437308311462\n",
            "\n",
            "Group (Diabetic, Overweight):\n",
            "P-value from Shapiro-Wilk Test: 0.3183487355709076\n",
            "\n",
            "Group (Non-diabetic, Not Overweight):\n",
            "P-value from Shapiro-Wilk Test: 0.13082022964954376\n",
            "\n",
            "Group (Non-diabetic, Overweight):\n",
            "P-value from Shapiro-Wilk Test: 0.6069508194923401\n",
            "\n"
          ]
        },
        {
          "output_type": "display_data",
          "data": {
            "text/plain": [
              "<Figure size 640x480 with 1 Axes>"
            ],
            "image/png": "[encoded data removed]"
          },
          "metadata": {}
        },
        {
          "output_type": "display_data",
          "data": {
            "text/plain": [
              "<Figure size 640x480 with 1 Axes>"
            ],
            "image/png": "[encoded data removed]"
          },
          "metadata": {}
        }
      ]
    },
    {
      "cell_type": "markdown",
      "source": [
        "#Interpretation\n",
        "\n",
        "## 1. Group (Diabetic, Not Overweight): P-value: 0.9399\n",
        "With a p-value of 0.9399, the blood glucose levels in the \"Diabetic, Not Overweight\" group do not significantly deviate from a normal distribution. A higher p-value (closer to 1) suggests that the data is likely sampled from a normal distribution.\n",
        "\n",
        "## 2. Group (Diabetic, Overweight): P-value: 0.3183\n",
        "With a p-value of 0.3183, the blood glucose levels in the \"Diabetic, Overweight\" group do not significantly deviate from a normal distribution. Again, the higher the p-value, the more evidence you have against rejecting the null hypothesis (the null hypothesis being that the data is normally distributed).\n",
        "\n",
        "## 3. Group (Non-diabetic, Not Overweight): P-value: 0.1308\n",
        "With a p-value of 0.1308, the blood glucose levels in the \"Non-diabetic, Not Overweight\" group do not significantly deviate from a normal distribution. While this p-value is slightly lower, it is still relatively high, indicating that the data is likely normally distributed.\n",
        "\n",
        "## 4. Group (Non-diabetic, Overweight): P-value: 0.6069\n",
        "With a p-value of 0.6069, the blood glucose levels in the \"Non-diabetic, Overweight\" group do not significantly deviate from a normal distribution. Similar to the other groups, this high p-value suggests that the data is likely sampled from a normal distribution."
      ],
      "metadata": {
        "id": "j-sZzdNUhiBM"
      }
    }
  ]
}